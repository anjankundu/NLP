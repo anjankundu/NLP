{
  "cells": [
    {
      "cell_type": "markdown",
      "source": [
        "####**Load Data**"
      ],
      "metadata": {
        "id": "C-7LoYGv6Nyg"
      },
      "id": "C-7LoYGv6Nyg"
    },
    {
      "cell_type": "code",
      "execution_count": null,
      "id": "9UdLqzT8ywvs",
      "metadata": {
        "collapsed": true,
        "id": "9UdLqzT8ywvs",
        "jupyter": {
          "outputs_hidden": true
        }
      },
      "outputs": [],
      "source": [
        "# Install required packages\n",
        "!pip install datasets --quiet"
      ]
    },
    {
      "cell_type": "code",
      "execution_count": null,
      "id": "nNThJzKXE2x2",
      "metadata": {
        "colab": {
          "base_uri": "https://localhost:8080/"
        },
        "id": "nNThJzKXE2x2",
        "outputId": "e7929131-d0fb-49a6-9420-ad9f464ac38d"
      },
      "outputs": [
        {
          "output_type": "stream",
          "name": "stdout",
          "text": [
            "Using Colab Enterprise\n"
          ]
        }
      ],
      "source": [
        "# Find Colab environment\n",
        "import os\n",
        "\n",
        "colab_env = os.environ.get('GOOGLE_CLOUD_PROJECT')\n",
        "if colab_env == None:\n",
        "    print(\"Using Colab Research\")\n",
        "else:\n",
        "    print(\"Using Colab Enterprise\")"
      ]
    },
    {
      "cell_type": "code",
      "execution_count": null,
      "id": "wrQPaKLvDtVM",
      "metadata": {
        "colab": {
          "base_uri": "https://localhost:8080/"
        },
        "id": "wrQPaKLvDtVM",
        "outputId": "31f1e332-874b-49c9-aa63-855bcaffb98c"
      },
      "outputs": [
        {
          "output_type": "stream",
          "name": "stdout",
          "text": [
            "Successfully logged in to Hugging Face!\n"
          ]
        }
      ],
      "source": [
        "# Login to Hugging Face\n",
        "from huggingface_hub import login\n",
        "\n",
        "if colab_env == None:\n",
        "    # Get access token from Hugging Face hub\n",
        "    from google.colab import userdata\n",
        "\n",
        "    HF_TOKEN = userdata.get('HF_TOKEN')\n",
        "else:\n",
        "    # Get access token from Secret Manager\n",
        "    !pip install google-cloud-secret-manager --quiet\n",
        "    from google.cloud import secretmanager\n",
        "\n",
        "    client = secretmanager.SecretManagerServiceClient()\n",
        "    project_id = !gcloud config get-value project\n",
        "    secret_name = f\"projects/{project_id[0]}/secrets/HF_TOKEN/versions/latest\"\n",
        "    response = client.access_secret_version(request={\"name\": secret_name})\n",
        "    HF_TOKEN = response.payload.data.decode(\"UTF-8\")\n",
        "\n",
        "if HF_TOKEN:\n",
        "    login(HF_TOKEN)\n",
        "    print(\"Successfully logged in to Hugging Face!\")\n",
        "else:\n",
        "    print(\"Token is not set. Please set the token first.\")"
      ]
    },
    {
      "cell_type": "code",
      "execution_count": null,
      "id": "yX0omJOjQd5fcIRM4uCRynfC",
      "metadata": {
        "colab": {
          "base_uri": "https://localhost:8080/"
        },
        "id": "yX0omJOjQd5fcIRM4uCRynfC",
        "outputId": "65bfef01-25af-4d70-e933-adcdfe645e7b",
        "tags": []
      },
      "outputs": [
        {
          "output_type": "stream",
          "name": "stdout",
          "text": [
            "Tokenized sentiment analysis dataset dict:\n",
            "DatasetDict({\n",
            "    train: Dataset({\n",
            "        features: ['id', 'text', 'label', 'sentiment', 'input_ids', 'attention_mask'],\n",
            "        num_rows: 31232\n",
            "    })\n",
            "    validation: Dataset({\n",
            "        features: ['id', 'text', 'label', 'sentiment', 'input_ids', 'attention_mask'],\n",
            "        num_rows: 5205\n",
            "    })\n",
            "    test: Dataset({\n",
            "        features: ['id', 'text', 'label', 'sentiment', 'input_ids', 'attention_mask'],\n",
            "        num_rows: 5206\n",
            "    })\n",
            "})\n"
          ]
        }
      ],
      "source": [
        "# Load Hugging Face tokenized dataset dict anjan-k/Sentiment-Analysis-Tokenized\n",
        "from datasets import load_dataset\n",
        "\n",
        "sentiment_analysis_tokenized = load_dataset(\"anjan-k/Sentiment-Analysis-Tokenized\")\n",
        "print(\"Tokenized sentiment analysis dataset dict:\")\n",
        "print(sentiment_analysis_tokenized)"
      ]
    },
    {
      "cell_type": "code",
      "source": [
        "# Get tokenized test dataset\n",
        "tokenized_test = sentiment_analysis_tokenized[\"test\"]"
      ],
      "metadata": {
        "id": "uoAizrpg7zav"
      },
      "id": "uoAizrpg7zav",
      "execution_count": null,
      "outputs": []
    },
    {
      "cell_type": "code",
      "execution_count": null,
      "id": "pHaoED_DMxvx",
      "metadata": {
        "id": "pHaoED_DMxvx"
      },
      "outputs": [],
      "source": [
        "# Load model and tokenizer\n",
        "from transformers import AutoTokenizer, AutoModelForSequenceClassification\n",
        "\n",
        "def load_model_and_tokenizer(model_name):\n",
        "    tokenizer = AutoTokenizer.from_pretrained(model_name)\n",
        "    model = AutoModelForSequenceClassification.from_pretrained(model_name)\n",
        "    return model, tokenizer"
      ]
    },
    {
      "cell_type": "code",
      "source": [
        "# Use a data_collator to convert training samples to PyTorch tensors\n",
        "from transformers import DataCollatorWithPadding\n",
        "def get_data_collator(tokenizer):\n",
        "    data_collator = DataCollatorWithPadding(tokenizer=tokenizer)\n",
        "    return data_collator"
      ],
      "metadata": {
        "id": "E1q0n-Mf8Gzw"
      },
      "execution_count": null,
      "outputs": [],
      "id": "E1q0n-Mf8Gzw"
    },
    {
      "cell_type": "code",
      "source": [
        "import torch\n",
        "from torch.utils.data import DataLoader\n",
        "\n",
        "def get_dataloader(tokenized_test, batch_size, data_collator):\n",
        "    # Set batch size\n",
        "    batch_size = 16\n",
        "\n",
        "    # Convert tokenized dataset to PyTorch tensors format\n",
        "    tokenized_test.set_format(type='torch', columns=['input_ids', 'attention_mask', 'label'])\n",
        "\n",
        "    # Setup dataloaders\n",
        "    dataloader_test = DataLoader(tokenized_test, batch_size=batch_size, collate_fn=data_collator)\n",
        "    return dataloader_test"
      ],
      "metadata": {
        "id": "NgSWKoIYww8s"
      },
      "execution_count": null,
      "outputs": [],
      "id": "NgSWKoIYww8s"
    },
    {
      "cell_type": "code",
      "execution_count": null,
      "metadata": {
        "id": "n74rkzZ5jzEg"
      },
      "outputs": [],
      "source": [
        "# Evaluate the model and report accuracy and f1-score\n",
        "\n",
        "import torch\n",
        "from sklearn.metrics import accuracy_score, f1_score\n",
        "\n",
        "def evaluate_model(model, dataloader_test):\n",
        "    # Use GPU if available\n",
        "    device = torch.device('cuda' if torch.cuda.is_available() else 'cpu')\n",
        "    model.to(device)\n",
        "\n",
        "    model.eval()\n",
        "    all_preds = []\n",
        "    all_labels = []\n",
        "\n",
        "    # Evaluate loop\n",
        "    with torch.no_grad():\n",
        "        for batch in dataloader_test:\n",
        "            input_ids = batch['input_ids'].to(device)\n",
        "            attention_mask = batch['attention_mask'].to(device)\n",
        "            labels = batch['labels'].to(device)\n",
        "\n",
        "            outputs = model(input_ids=input_ids, attention_mask=attention_mask)\n",
        "            logits = outputs.logits\n",
        "            preds = torch.argmax(logits, dim=1)\n",
        "\n",
        "            all_preds.extend(preds.cpu().numpy())\n",
        "            all_labels.extend(labels.cpu().numpy())\n",
        "\n",
        "    # Calculate accuracy and F1 score\n",
        "    accuracy = accuracy_score(all_labels, all_preds)\n",
        "    f1 = f1_score(all_labels, all_preds, average='weighted')\n",
        "\n",
        "    print(f\"Accuracy: {accuracy:.4f}\")\n",
        "    print(f\"F1 Score: {f1:.4f}\")\n",
        "    return accuracy, f1"
      ],
      "id": "n74rkzZ5jzEg"
    },
    {
      "cell_type": "code",
      "source": [
        "def run_evaluation(model_name, tokenized_test):\n",
        "    model, tokenizer = load_model_and_tokenizer(model_name)\n",
        "    data_collator = get_data_collator(tokenizer)\n",
        "    dataloader_test = get_dataloader(tokenized_test=tokenized_test, batch_size=16, data_collator=data_collator)\n",
        "    accuracy, f1 = evaluate_model(model, dataloader_test)\n",
        "    return accuracy, f1"
      ],
      "metadata": {
        "id": "wKBHVwNmaAQ1"
      },
      "id": "wKBHVwNmaAQ1",
      "execution_count": null,
      "outputs": []
    },
    {
      "cell_type": "code",
      "source": [
        "model_name = \"distilbert/distilbert-base-uncased\"\n",
        "accuracy_distilbert, f1_distilbert = run_evaluation(model_name, tokenized_test)"
      ],
      "metadata": {
        "colab": {
          "base_uri": "https://localhost:8080/"
        },
        "id": "Uvz6XIV-asg7",
        "outputId": "5f523b72-2fb3-49a3-b646-c634ebc66f40"
      },
      "id": "Uvz6XIV-asg7",
      "execution_count": null,
      "outputs": [
        {
          "output_type": "stream",
          "name": "stderr",
          "text": [
            "Some weights of DistilBertForSequenceClassification were not initialized from the model checkpoint at distilbert/distilbert-base-uncased and are newly initialized: ['classifier.bias', 'classifier.weight', 'pre_classifier.bias', 'pre_classifier.weight']\n",
            "You should probably TRAIN this model on a down-stream task to be able to use it for predictions and inference.\n"
          ]
        },
        {
          "output_type": "stream",
          "name": "stdout",
          "text": [
            "Accuracy: 0.3707\n",
            "F1 Score: 0.2005\n"
          ]
        }
      ]
    },
    {
      "cell_type": "code",
      "source": [
        "model_name = \"anjan-k/Sentiment-Analysis-FineTune-Torch\"\n",
        "accuracy_finetune_torch, f1_finetune_torch = run_evaluation(model_name, tokenized_test)"
      ],
      "metadata": {
        "colab": {
          "base_uri": "https://localhost:8080/"
        },
        "outputId": "8a3b6078-2641-468e-b8cd-9f2bf05fa213",
        "id": "GUAetnazcEf-"
      },
      "execution_count": null,
      "outputs": [
        {
          "output_type": "stream",
          "name": "stdout",
          "text": [
            "Accuracy: 0.7624\n",
            "F1 Score: 0.7629\n"
          ]
        }
      ],
      "id": "GUAetnazcEf-"
    },
    {
      "cell_type": "code",
      "source": [
        "model_name = \"anjan-k/Sentiment-Analysis-FineTune-HuggingFace\"\n",
        "accuracy_finetune_hf, f1_finetune_hf = run_evaluation(model_name, tokenized_test)"
      ],
      "metadata": {
        "colab": {
          "base_uri": "https://localhost:8080/"
        },
        "outputId": "fbace73c-53d4-49c8-9ac2-c8c4d1be683c",
        "id": "X9n4NRdVcGD5"
      },
      "execution_count": null,
      "outputs": [
        {
          "output_type": "stream",
          "name": "stdout",
          "text": [
            "Accuracy: 0.7630\n",
            "F1 Score: 0.7632\n"
          ]
        }
      ],
      "id": "X9n4NRdVcGD5"
    },
    {
      "cell_type": "code",
      "source": [
        "# Generate a histogram with the accuracy and F1 scores\n",
        "\n",
        "import matplotlib.pyplot as plt\n",
        "import numpy as np\n",
        "\n",
        "# Data for the histogram\n",
        "models = ['DistilBERT', 'Fine-tuned (Torch)', 'Fine-tuned (HF)']\n",
        "accuracies = [accuracy_distilbert, accuracy_finetune_torch, accuracy_finetune_hf]\n",
        "f1_scores = [f1_distilbert, f1_finetune_torch, f1_finetune_hf]\n",
        "\n",
        "x = np.arange(len(models))\n",
        "width = 0.35\n",
        "\n",
        "fig, ax = plt.subplots(figsize=(10, 6))\n",
        "rects1 = ax.bar(x - width/2, accuracies, width, label='Accuracy')\n",
        "rects2 = ax.bar(x + width/2, f1_scores, width, label='F1 Score')\n",
        "\n",
        "# Set labels, title and axes ticks\n",
        "ax.set_ylabel('Scores')\n",
        "ax.set_title('Model Performance: Accuracy and F1 Scores')\n",
        "ax.set_xticks(x)\n",
        "ax.set_xticklabels(models)\n",
        "ax.legend()\n",
        "\n",
        "# Add the values on top of the bars\n",
        "def autolabel(rects):\n",
        "    for rect in rects:\n",
        "        height = rect.get_height()\n",
        "        ax.annotate(f'{height:.2f}',\n",
        "                    xy=(rect.get_x() + rect.get_width() / 2, height),\n",
        "                    xytext=(0, 3),  # 3 points vertical offset\n",
        "                    textcoords=\"offset points\",\n",
        "                    ha='center', va='bottom')\n",
        "\n",
        "autolabel(rects1)\n",
        "autolabel(rects2)\n",
        "\n",
        "fig.tight_layout()\n",
        "plt.show()"
      ],
      "metadata": {
        "colab": {
          "base_uri": "https://localhost:8080/",
          "height": 607
        },
        "id": "8Zn82swIcq4j",
        "outputId": "28d0396a-d671-4af0-886d-74c35c2158a0"
      },
      "id": "8Zn82swIcq4j",
      "execution_count": null,
      "outputs": [
        {
          "output_type": "display_data",
          "data": {
            "text/plain": [
              "<Figure size 1000x600 with 1 Axes>"
            ],
            "image/png": "[encoded data removed]"
          },
          "metadata": {}
        }
      ]
    }
  ],
  "metadata": {
    "accelerator": "GPU",
    "colab": {
      "gpuType": "L4",
      "machine_shape": "hm",
      "name": "inference_evaluation",
      "provenance": []
    },
    "kernelspec": {
      "display_name": "Python 3 (ipykernel)",
      "language": "python",
      "name": "python3"
    },
    "language_info": {
      "codemirror_mode": {
        "name": "ipython",
        "version": 3
      },
      "file_extension": ".py",
      "mimetype": "text/x-python",
      "name": "python",
      "nbconvert_exporter": "python",
      "pygments_lexer": "ipython3",
      "version": "3.12.3"
    }
  },
  "nbformat": 4,
  "nbformat_minor": 5
}